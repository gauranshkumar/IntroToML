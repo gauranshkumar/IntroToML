{
 "cells": [
  {
   "cell_type": "markdown",
   "id": "intro-001",
   "metadata": {},
   "source": [
    "# Introduction to NumPy, Pandas, and Matplotlib\n",
    "\n",
    "In this notebook, we'll introduce three essential libraries for data science and scientific computing in Python:\n",
    "\n",
    "- **NumPy:** A core package for numerical computations with efficient array operations.\n",
    "- **Pandas:** A powerful library for data manipulation and analysis using DataFrames.\n",
    "- **Matplotlib:** A versatile library for creating static, animated, and interactive visualizations.\n",
    "\n",
    "Let's get started by exploring each library with some basic examples."
   ]
  },
  {
   "cell_type": "markdown",
   "id": "intro-002",
   "metadata": {},
   "source": [
    "## Getting Started\n",
    "\n",
    "Before you begin, make sure you have the necessary libraries installed. You can install them using pip:\n",
    "\n",
    "```bash\n",
    "pip install numpy pandas matplotlib\n",
    "```\n",
    "\n",
    "Now, let's dive into the basics of each library."
   ]
  },
  {
   "cell_type": "markdown",
   "id": "numpy-intro",
   "metadata": {},
   "source": [
    "## 1. NumPy Basics\n",
    "\n",
    "NumPy is the fundamental package for numerical computing in Python. It provides high-performance multidimensional arrays and a host of mathematical functions to operate on these arrays. In the following examples, we'll create arrays, perform vectorized operations, and explore array slicing."
   ]
  },
  {
   "cell_type": "code",
   "execution_count": null,
   "id": "numpy-example-001",
   "metadata": {},
   "outputs": [],
   "source": [
    "import numpy as np\n",
    "\n",
    "# Create a one-dimensional array\n",
    "arr = np.array([1, 2, 3, 4, 5])\n",
    "print(\"One-dimensional array:\", arr)\n",
    "\n",
    "# Create a two-dimensional array (matrix)\n",
    "matrix = np.array([[1, 2, 3], [4, 5, 6]])\n",
    "print(\"\\nTwo-dimensional array (matrix):\\n\", matrix)"
   ]
  },
  {
   "cell_type": "markdown",
   "id": "numpy-slicing",
   "metadata": {},
   "source": [
    "### Array Operations and Slicing\n",
    "\n",
    "NumPy arrays support efficient vectorized operations and flexible slicing. Here are some examples:"
   ]
  },
  {
   "cell_type": "code",
   "execution_count": null,
   "id": "numpy-example-002",
   "metadata": {},
   "outputs": [],
   "source": [
    "# Vectorized operation: add 10 to each element of the array\n",
    "new_arr = arr + 10\n",
    "print(\"Array after adding 10:\", new_arr)\n",
    "\n",
    "# Slicing: extract elements from index 1 to 3 (inclusive of start, exclusive of end)\n",
    "slice_arr = arr[1:4]\n",
    "print(\"Sliced array (indexes 1 to 3):\", slice_arr)\n",
    "\n",
    "# Slicing with a step: every second element\n",
    "step_slice = arr[::2]\n",
    "print(\"Every second element:\", step_slice)"
   ]
  },
  {
   "cell_type": "markdown",
   "id": "numpy-stats",
   "metadata": {},
   "source": [
    "### Basic Statistical Operations\n",
    "\n",
    "NumPy offers many built-in functions for statistical analysis. Here are a few common examples:"
   ]
  },
  {
   "cell_type": "code",
   "execution_count": null,
   "id": "numpy-example-003",
   "metadata": {},
   "outputs": [],
   "source": [
    "print(\"Mean of array:\", np.mean(arr))\n",
    "print(\"Sum of array:\", np.sum(arr))\n",
    "print(\"Standard deviation of array:\", np.std(arr))"
   ]
  },
  {
   "cell_type": "markdown",
   "id": "pandas-intro",
   "metadata": {},
   "source": [
    "## 2. Pandas Basics\n",
    "\n",
    "Pandas is a powerful library for data manipulation and analysis. It introduces two key data structures: **Series** and **DataFrame**. In this section, we'll focus on DataFrames and explore how to create, view, and manipulate them."
   ]
  },
  {
   "cell_type": "code",
   "execution_count": null,
   "id": "pandas-example-001",
   "metadata": {},
   "outputs": [],
   "source": [
    "import pandas as pd\n",
    "\n",
    "# Create a DataFrame from a dictionary\n",
    "data = {\n",
    "    'Name': ['Alice', 'Bob', 'Charlie', 'David'],\n",
    "    'Age': [25, 30, 35, 40],\n",
    "    'City': ['New York', 'Los Angeles', 'Chicago', 'Houston']\n",
    "}\n",
    "\n",
    "df = pd.DataFrame(data)\n",
    "print(\"DataFrame:\\n\", df)\n",
    "\n",
    "# Display the first two rows of the DataFrame\n",
    "print(\"\\nFirst two rows:\\n\", df.head(2))"
   ]
  },
  {
   "cell_type": "markdown",
   "id": "pandas-ops",
   "metadata": {},
   "source": [
    "### Basic DataFrame Operations\n",
    "\n",
    "Here are some common operations you can perform with Pandas DataFrames:\n",
    "\n",
    "- **Descriptive Statistics:** Use `describe()` to get summary statistics of numerical columns.\n",
    "- **Indexing and Filtering:** Access specific columns and filter rows based on conditions.\n",
    "- **Sorting:** Sort the DataFrame based on column values."
   ]
  },
  {
   "cell_type": "code",
   "execution_count": null,
   "id": "pandas-example-002",
   "metadata": {},
   "outputs": [],
   "source": [
    "# Descriptive statistics\n",
    "print(\"\\nDescriptive statistics:\\n\", df.describe())\n",
    "\n",
    "# Selecting a single column\n",
    "print(\"\\nNames column:\\n\", df['Name'])\n",
    "\n",
    "# Filtering: Select rows where Age is greater than 30\n",
    "filtered_df = df[df['Age'] > 30]\n",
    "print(\"\\nRows where Age > 30:\\n\", filtered_df)\n",
    "\n",
    "# Sorting the DataFrame by Age\n",
    "sorted_df = df.sort_values(by='Age')\n",
    "print(\"\\nDataFrame sorted by Age:\\n\", sorted_df)"
   ]
  },
  {
   "cell_type": "markdown",
   "id": "matplotlib-intro",
   "metadata": {},
   "source": [
    "## 3. Matplotlib Basics\n",
    "\n",
    "Matplotlib is one of the most widely used libraries for data visualization in Python. It allows you to create a wide range of static, animated, and interactive plots. In this section, we'll create a simple line plot and a scatter plot."
   ]
  },
  {
   "cell_type": "code",
   "execution_count": null,
   "id": "matplotlib-example-001",
   "metadata": {},
   "outputs": [],
   "source": [
    "import matplotlib.pyplot as plt\n",
    "\n",
    "# Create data for plotting using NumPy\n",
    "x = np.linspace(0, 10, 100)  # 100 evenly spaced points between 0 and 10\n",
    "y = np.sin(x)\n",
    "\n",
    "# Create a line plot of the sine wave\n",
    "plt.figure() \n",
    "plt.plot(x, y, label='Sine Wave')\n",
    "plt.xlabel('X-axis')\n",
    "plt.ylabel('Y-axis')\n",
    "plt.title('Line Plot of Sine Wave')\n",
    "plt.legend()\n",
    "plt.show()"
   ]
  },
  {
   "cell_type": "markdown",
   "id": "matplotlib-extra",
   "metadata": {},
   "source": [
    "### Additional Plot: Scatter Plot\n",
    "\n",
    "Let's create a scatter plot using some randomly generated data."
   ]
  },
  {
   "cell_type": "code",
   "execution_count": null,
   "id": "matplotlib-example-002",
   "metadata": {},
   "outputs": [],
   "source": [
    "# Generate random data for scatter plot\n",
    "np.random.seed(0)  # for reproducibility\n",
    "x_scatter = np.random.rand(50)\n",
    "y_scatter = np.random.rand(50)\n",
    "\n",
    "plt.figure()\n",
    "plt.scatter(x_scatter, y_scatter, color='green', label='Data Points')\n",
    "plt.xlabel('X-axis')\n",
    "plt.ylabel('Y-axis')\n",
    "plt.title('Scatter Plot Example')\n",
    "plt.legend()\n",
    "plt.show()"
   ]
  },
  {
   "cell_type": "markdown",
   "id": "wrapup",
   "metadata": {},
   "source": [
    "## Wrap-Up\n",
    "\n",
    "In this notebook, you learned the basics of three fundamental libraries for data science:\n",
    "\n",
    "- **NumPy:** Creating arrays, performing vectorized operations, and slicing arrays.\n",
    "- **Pandas:** Creating and manipulating DataFrames, computing descriptive statistics, and filtering data.\n",
    "- **Matplotlib:** Creating simple visualizations such as line plots and scatter plots.\n",
    "\n",
    "These libraries form the backbone of data analysis and visualization in Python. Experiment with the examples provided and explore further to enhance your skills.\n",
    "\n",
    "Happy coding!\n",
    "\n",
    "Author: [@gauranshkumar](https://gauransh.dev)"
   ]
  }
 ],
 "metadata": {
  "kernelspec": {
   "display_name": "Python 3 (ipykernel)",
   "language": "python",
   "name": "python3"
  },
  "language_info": {
   "codemirror_mode": {
    "name": "ipython",
    "version": 3
   },
   "file_extension": ".py",
   "mimetype": "text/x-python",
   "name": "python",
   "nbconvert_exporter": "python",
   "pygments_lexer": "ipython3",
   "version": "3.11.9"
  }
 },
 "nbformat": 4,
 "nbformat_minor": 5
}
