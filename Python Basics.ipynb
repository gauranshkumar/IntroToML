{
 "cells": [
  {
   "cell_type": "markdown",
   "id": "9f3c4bfa",
   "metadata": {},
   "source": [
    "# Introduction to Python for Beginners\n",
    "\n",
    "Welcome to the introductory course on Python! In this notebook, we'll cover the basics of Python programming—from setting up your environment to writing simple programs with variables, control flow, functions, and basic data structures.\n",
    "\n",
    "This session is designed for complete beginners who have little to no prior experience with Python and only basic programming concepts."
   ]
  },
  {
   "cell_type": "markdown",
   "id": "f3e91752",
   "metadata": {
    "jp-MarkdownHeadingCollapsed": true
   },
   "source": [
    "## 1. Course Overview & Objectives\n",
    "\n",
    "- **Objective:** Understand what Python is and why it is popular.\n",
    "- **Learn:** Python syntax, variables, data types, control flow (conditionals & loops), functions, and basic data structures.\n",
    "- **Practice:** Write and run simple Python scripts and functions interactively.\n",
    "\n",
    "Let's get started by setting up our Python environment."
   ]
  },
  {
   "cell_type": "markdown",
   "id": "e3c8af0a",
   "metadata": {},
   "source": [
    "## 2. Setting Up Your Python Environment\n",
    "\n",
    "Before we begin coding, make sure you have Python installed on your system. You can download it from the [official website](https://www.python.org/downloads/) or use an online platform like [Repl.it](https://replit.com) or [Jupyter Notebook](https://jupyter.org/).\n",
    "\n",
    "We'll now run our very first Python script."
   ]
  },
  {
   "cell_type": "code",
   "execution_count": 1,
   "id": "cbcf5e2e",
   "metadata": {},
   "outputs": [
    {
     "name": "stdout",
     "output_type": "stream",
     "text": [
      "Hello, World!\n"
     ]
    }
   ],
   "source": [
    "# Running your first Python script\n",
    "print(\"Hello, World!\")"
   ]
  },
  {
   "cell_type": "markdown",
   "id": "caaed154",
   "metadata": {},
   "source": [
    "## 3. Basic Python Syntax & Data Types\n",
    "\n",
    "### Python Syntax & Variables\n",
    "\n",
    "Python is known for its clean and readable syntax. Notice that indentation is very important in Python as it defines the blocks of code. Comments are added using the `#` symbol.\n",
    "\n",
    "Let's start with variables and basic data types."
   ]
  },
  {
   "cell_type": "code",
   "execution_count": null,
   "id": "9125d2e8",
   "metadata": {},
   "outputs": [],
   "source": [
    "# Variables and assignment\n",
    "age = 25\n",
    "name = \"Alice\"\n",
    "print(\"Name:\", name)\n",
    "print(\"Age:\", age)"
   ]
  },
  {
   "cell_type": "markdown",
   "id": "fa87a65e",
   "metadata": {},
   "source": [
    "### Numeric Data Types\n",
    "\n",
    "Python supports integers and floats. Here is an example of arithmetic operations:"
   ]
  },
  {
   "cell_type": "code",
   "execution_count": null,
   "id": "a4a2d657",
   "metadata": {},
   "outputs": [],
   "source": [
    "# Integers and floats\n",
    "a = 10       # integer\n",
    "b = 3.5      # float\n",
    "result = a + b\n",
    "print(\"The result of a + b is:\", result)"
   ]
  },
  {
   "cell_type": "markdown",
   "id": "f83e8e67-cc72-4905-859e-32ea497913e9",
   "metadata": {},
   "source": [
    "### Mathematical Operators \n",
    "\n",
    "Python supports multiple mathematical operators. Here are examples of the following:"
   ]
  },
  {
   "cell_type": "code",
   "execution_count": null,
   "id": "5ed7637e-d48a-4594-858b-1f439232cc91",
   "metadata": {},
   "outputs": [],
   "source": [
    "# addition + \n",
    "print(\"Addidtion: \", a+b)\n",
    "\n",
    "#subtract -\n",
    "print(\"Substraction: \", a-b)\n",
    "\n",
    "# multiply *\n",
    "print(\"Multiplication: \", a*b)\n",
    "\n",
    "# divide /\n",
    "print(\"Divide: \", a/b)\n",
    "\n",
    "# absolute divide //\n",
    "print(\"Absolute Divide: \", a//b)\n",
    "\n",
    "# modulus %\n",
    "print(\"Mod: \", a%b)\n",
    "\n",
    "# exponentiation a**b (equivalent of a^b)\n",
    "print(\"Exponentiation: \", a**b)"
   ]
  },
  {
   "cell_type": "markdown",
   "id": "db8cf7ac",
   "metadata": {},
   "source": [
    "### Strings\n",
    "\n",
    "Strings in Python can be created using single or double quotes. They can be concatenated (combined) easily."
   ]
  },
  {
   "cell_type": "code",
   "execution_count": null,
   "id": "558a0e47",
   "metadata": {},
   "outputs": [],
   "source": [
    "# Working with strings\n",
    "greeting = \"Hello\"\n",
    "place = \"World\"\n",
    "message = greeting + \", \" + place + \"!\"\n",
    "print(message)"
   ]
  },
  {
   "cell_type": "markdown",
   "id": "fdcdcc8b",
   "metadata": {},
   "source": [
    "### Booleans & Checking Data Types\n",
    "\n",
    "Booleans represent truth values and are often used in conditions. Use the built-in `type()` function to check the type of a variable."
   ]
  },
  {
   "cell_type": "code",
   "execution_count": null,
   "id": "01b3e8d3",
   "metadata": {},
   "outputs": [],
   "source": [
    "# Booleans and type checking\n",
    "is_student = True\n",
    "print(\"Is student?\", is_student)\n",
    "\n",
    "# Check type of variables\n",
    "print(\"Type of age:\", type(age))\n",
    "print(\"Type of greeting:\", type(greeting))"
   ]
  },
  {
   "cell_type": "markdown",
   "id": "9341a6ec",
   "metadata": {},
   "source": [
    "## 4. Control Flow: Conditionals & Loops\n",
    "\n",
    "### Conditionals\n",
    "\n",
    "Conditional statements allow us to execute code based on certain conditions. Here’s how to use `if`, `elif`, and `else` statements:"
   ]
  },
  {
   "cell_type": "code",
   "execution_count": null,
   "id": "a4d840af",
   "metadata": {},
   "outputs": [],
   "source": [
    "# Conditional statements\n",
    "number = 10\n",
    "if number > 0:\n",
    "    print(\"Positive number\")\n",
    "elif number == 0:\n",
    "    print(\"Zero\")\n",
    "else:\n",
    "    print(\"Negative number\")"
   ]
  },
  {
   "cell_type": "markdown",
   "id": "cbad789b",
   "metadata": {},
   "source": [
    "### Loops\n",
    "\n",
    "Loops allow you to repeat a block of code multiple times. We'll cover both `for` loops and `while` loops."
   ]
  },
  {
   "cell_type": "code",
   "execution_count": null,
   "id": "f9c29303",
   "metadata": {},
   "outputs": [],
   "source": [
    "# For loop: iterate over a sequence\n",
    "for i in range(5):\n",
    "    print(\"Iteration:\", i)"
   ]
  },
  {
   "cell_type": "code",
   "execution_count": null,
   "id": "9ed4f29e",
   "metadata": {},
   "outputs": [],
   "source": [
    "# While loop: repeat while a condition is True\n",
    "count = 0\n",
    "while count < 5:\n",
    "    print(\"Count is:\", count)\n",
    "    count += 1"
   ]
  },
  {
   "cell_type": "markdown",
   "id": "5b0f7bb2",
   "metadata": {},
   "source": [
    "## 5. Functions & Modularity\n",
    "\n",
    "Functions help us encapsulate reusable code. They make programs more organized and easier to manage. We use the `def` keyword to define a function.\n",
    "\n",
    "Below is an example function that greets a user by name."
   ]
  },
  {
   "cell_type": "code",
   "execution_count": null,
   "id": "a0b9b46e",
   "metadata": {},
   "outputs": [],
   "source": [
    "# Defining a function\n",
    "def greet(name):\n",
    "    \"\"\"Return a greeting message for the given name.\"\"\"\n",
    "    return \"Hello, \" + name\n",
    "\n",
    "# Calling the function\n",
    "print(greet(\"Alice\"))"
   ]
  },
  {
   "cell_type": "markdown",
   "id": "8d3d7a12",
   "metadata": {},
   "source": [
    "## 6. Introduction to Basic Data Structures\n",
    "\n",
    "### Lists\n",
    "\n",
    "Lists are ordered collections of items. You can add, remove, or access elements by their index."
   ]
  },
  {
   "cell_type": "code",
   "execution_count": null,
   "id": "fb281db9",
   "metadata": {},
   "outputs": [],
   "source": [
    "# Creating and manipulating a list\n",
    "fruits = [\"apple\", \"banana\", \"cherry\"]\n",
    "print(\"Original list:\", fruits)\n",
    "\n",
    "# Append a new element\n",
    "fruits.append(\"date\")\n",
    "print(\"Updated list:\", fruits)\n",
    "\n",
    "# Access an element by index\n",
    "print(\"Second fruit in the list:\", fruits[1])"
   ]
  },
  {
   "cell_type": "markdown",
   "id": "db9d2f6b",
   "metadata": {},
   "source": [
    "### Dictionaries\n",
    "\n",
    "Dictionaries store data as key-value pairs. They are useful when you need to associate values with keys."
   ]
  },
  {
   "cell_type": "code",
   "execution_count": null,
   "id": "f8bdf3e3",
   "metadata": {},
   "outputs": [],
   "source": [
    "# Creating and accessing a dictionary\n",
    "student = {\n",
    "    \"name\": \"Alice\",\n",
    "    \"age\": 20\n",
    "}\n",
    "\n",
    "print(\"Student's name:\", student[\"name\"])"
   ]
  },
  {
   "cell_type": "markdown",
   "id": "b76b3a73",
   "metadata": {},
   "source": [
    "## 7. Additional Topics: List Slicing & Introduction to Classes\n",
    "\n",
    "In this section, we'll dive deeper into list slicing and provide a brief introduction to classes."
   ]
  },
  {
   "cell_type": "markdown",
   "id": "81f4b88a",
   "metadata": {},
   "source": [
    "### List Slicing\n",
    "\n",
    "List slicing allows you to extract a portion of a list using a concise syntax. The general syntax is:\n",
    "\n",
    "```python\n",
    "list[start:stop:step]\n",
    "```\n",
    "\n",
    "- **start:** The index where the slice starts (inclusive). If omitted, defaults to the beginning of the list.\n",
    "- **stop:** The index where the slice ends (exclusive). If omitted, defaults to the end of the list.\n",
    "- **step:** The step between each index in the slice. If omitted, defaults to 1.\n",
    "\n",
    "Here are some examples:"
   ]
  },
  {
   "cell_type": "code",
   "execution_count": null,
   "id": "7f04e2c3",
   "metadata": {},
   "outputs": [],
   "source": [
    "# Define a list of numbers\n",
    "numbers = [0, 1, 2, 3, 4, 5, 6, 7, 8, 9]\n",
    "\n",
    "# Slice from index 2 to 5 (2, 3, 4)\n",
    "print(\"numbers[2:5] ->\", numbers[2:5])\n",
    "\n",
    "# Slice from the beginning to index 4\n",
    "print(\"numbers[:4] ->\", numbers[:4])\n",
    "\n",
    "# Slice from index 6 to the end\n",
    "print(\"numbers[6:] ->\", numbers[6:])\n",
    "\n",
    "# Slice the entire list with a step of 2\n",
    "print(\"numbers[::2] ->\", numbers[::2])\n",
    "\n",
    "# Reverse the list using slicing\n",
    "print(\"numbers[::-1] ->\", numbers[::-1])"
   ]
  },
  {
   "cell_type": "markdown",
   "id": "cc9b18e3",
   "metadata": {},
   "source": [
    "### Introduction to Classes\n",
    "\n",
    "Classes are blueprints for creating objects. An object is an instance of a class. Classes encapsulate data for the object (attributes) and functions (methods) to manipulate that data.\n",
    "\n",
    "Below is a simple example of a class called `Person` with attributes for name and age, and a method that prints a greeting."
   ]
  },
  {
   "cell_type": "code",
   "execution_count": null,
   "id": "a8f9d1ec",
   "metadata": {},
   "outputs": [],
   "source": [
    "# Define a simple class called Person\n",
    "class Person:\n",
    "    def __init__(self, name, age):\n",
    "        \"\"\"Initialize the attributes for a new Person instance.\"\"\"\n",
    "        self.name = name\n",
    "        self.age = age\n",
    "        \n",
    "    def greet(self):\n",
    "        \"\"\"Print a greeting message.\"\"\"\n",
    "        print(f\"Hi, my name is {self.name} and I am {self.age} years old.\")\n",
    "\n",
    "# Create an instance of Person\n",
    "person1 = Person(\"Alice\", 30)\n",
    "\n",
    "# Call the greet method on the instance\n",
    "person1.greet()"
   ]
  },
  {
   "cell_type": "markdown",
   "id": "c08f0c2b2",
   "metadata": {},
   "source": [
    "## 8. Wrap-Up & Q&A\n",
    "\n",
    "### Recap\n",
    "\n",
    "- **Environment Setup:** Installing Python and running your first script.\n",
    "- **Basic Syntax & Data Types:** Variables, numbers, strings, booleans, and using `type()`.\n",
    "- **Control Flow:** Using conditionals (`if`, `elif`, `else`) and loops (`for`, `while`).\n",
    "- **Functions:** Writing and calling functions for modular code.\n",
    "- **Data Structures:** Introduction to lists, list slicing, and dictionaries.\n",
    "- **Classes:** A brief introduction to classes and objects.\n",
    "\n",
    "Feel free to experiment with the examples and ask questions as you go along."
   ]
  },
  {
   "cell_type": "markdown",
   "id": "9c9d2de7",
   "metadata": {},
   "source": [
    "## 9. Optional Interactive Exercise: Even/Odd Checker\n",
    "\n",
    "Let's create a simple program that asks the user to enter a number and then prints whether the number is even or odd."
   ]
  },
  {
   "cell_type": "code",
   "execution_count": null,
   "id": "b6e8a6c7",
   "metadata": {},
   "outputs": [],
   "source": [
    "# Even/Odd Checker\n",
    "def even_odd_checker():\n",
    "    try:\n",
    "        # Get user input\n",
    "        user_input = input(\"Enter a number: \")\n",
    "        number = int(user_input)\n",
    "        \n",
    "        # Check if the number is even or odd\n",
    "        if number % 2 == 0:\n",
    "            print(f\"{number} is even.\")\n",
    "        else:\n",
    "            print(f\"{number} is odd.\")\n",
    "    except ValueError:\n",
    "        print(\"Please enter a valid integer.\")\n",
    "\n",
    "# Run the even/odd checker function\n",
    "even_odd_checker()"
   ]
  },
  {
   "cell_type": "markdown",
   "id": "2c59e21c",
   "metadata": {},
   "source": [
    "---\n",
    "\n",
    "**Congratulations!** You've now seen the basics of Python programming along with some additional topics like list slicing and an introduction to classes. \n",
    "\n",
    "Feel free to review any section of this notebook and experiment further. Happy coding!\n",
    "\n",
    "Author: [@gauranshkumar](https://gauransh.dev)"
   ]
  }
 ],
 "metadata": {
  "kernelspec": {
   "display_name": "Python 3 (ipykernel)",
   "language": "python",
   "name": "python3"
  },
  "language_info": {
   "codemirror_mode": {
    "name": "ipython",
    "version": 3
   },
   "file_extension": ".py",
   "mimetype": "text/x-python",
   "name": "python",
   "nbconvert_exporter": "python",
   "pygments_lexer": "ipython3",
   "version": "3.11.9"
  }
 },
 "nbformat": 4,
 "nbformat_minor": 5
}
